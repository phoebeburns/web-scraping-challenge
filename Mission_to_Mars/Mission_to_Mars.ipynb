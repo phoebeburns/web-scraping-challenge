{
 "cells": [
  {
   "cell_type": "code",
   "execution_count": 1,
   "id": "47bb37b4",
   "metadata": {},
   "outputs": [],
   "source": [
    "from bs4 import BeautifulSoup as bs\n",
    "from splinter import Browser\n",
    "from pprint import pprint\n",
    "from webdriver_manager.chrome import ChromeDriverManager\n",
    "import pymongo as pg\n",
    "import pandas as pd\n",
    "\n",
    "\n",
    "def init_browser():\n",
    "    executable_path = {'executable_path': ChromeDriverManager().install()}\n",
    "    \n",
    "    return Browser('chrome', **executable_path, headless=False)\n",
    "\n",
    "mars_all = {}"
   ]
  },
  {
   "cell_type": "code",
   "execution_count": 2,
   "id": "d381657e",
   "metadata": {},
   "outputs": [],
   "source": [
    "# def scrape_all():\n",
    "#     scrape_news()\n",
    "#     scrape_feat_img()\n",
    "#     scrape_facts()\n",
    "#     scrape_feat_img()\n"
   ]
  },
  {
   "cell_type": "code",
   "execution_count": 3,
   "id": "afddc826",
   "metadata": {},
   "outputs": [
    {
     "name": "stderr",
     "output_type": "stream",
     "text": [
      "\n",
      "\n",
      "====== WebDriver manager ======\n",
      "Current google-chrome version is 99.0.4844\n",
      "Get LATEST chromedriver version for 99.0.4844 google-chrome\n",
      "Trying to download new driver from https://chromedriver.storage.googleapis.com/99.0.4844.51/chromedriver_win32.zip\n",
      "Driver has been saved in cache [C:\\Users\\Lunaclara\\.wdm\\drivers\\chromedriver\\win32\\99.0.4844.51]\n"
     ]
    }
   ],
   "source": [
    "# def scrape_news():\n",
    "\n",
    "browser = init_browser()\n",
    "\n",
    "url = \"https://redplanetscience.com/\"\n",
    "browser.visit(url)\n",
    "soup = bs(browser.html, \"html.parser\")\n",
    "\n",
    "marsheadline = soup.find(\"div\",\"content_title\").get_text()\n",
    "marscopy = soup.find(\"div\",\"article_teaser_body\").get_text()\n",
    "\n",
    "\n",
    "mars_all[\"title\"] = marsheadline\n",
    "mars_all[\"story\"] = marscopy\n",
    "\n",
    "browser.quit()\n",
    "    \n",
    "#     return\n"
   ]
  },
  {
   "cell_type": "code",
   "execution_count": 5,
   "id": "98e41de2",
   "metadata": {
    "scrolled": true
   },
   "outputs": [
    {
     "name": "stderr",
     "output_type": "stream",
     "text": [
      "\n",
      "\n",
      "====== WebDriver manager ======\n",
      "Current google-chrome version is 99.0.4844\n",
      "Get LATEST chromedriver version for 99.0.4844 google-chrome\n",
      "Trying to download new driver from https://chromedriver.storage.googleapis.com/99.0.4844.51/chromedriver_win32.zip\n",
      "Driver has been saved in cache [C:\\Users\\Lunaclara\\.wdm\\drivers\\chromedriver\\win32\\99.0.4844.51]\n"
     ]
    },
    {
     "name": "stdout",
     "output_type": "stream",
     "text": [
      "https://spaceimages-mars.com/image/featured/mars3.jpg\n"
     ]
    }
   ],
   "source": [
    "# def scrape_feat_img():\n",
    "browser = init_browser()\n",
    "\n",
    "url = \"https://spaceimages-mars.com\"\n",
    "browser.visit(url)\n",
    "soup = bs(browser.html, \"html.parser\")\n",
    "\n",
    "relative_image_path = soup.find_all('img')[1][\"src\"]\n",
    "\n",
    "featured_img = url + \"/\" + relative_image_path\n",
    "\n",
    "mars_all[\"feat_img\"] = featured_img\n",
    "\n",
    "browser.quit()"
   ]
  },
  {
   "cell_type": "code",
   "execution_count": 6,
   "id": "f6fb5b6f",
   "metadata": {},
   "outputs": [],
   "source": [
    "# def scrape_facts():\n",
    "mars_facts_url = \"https://galaxyfacts-mars.com\"\n",
    "\n",
    "table = pd.read_html(mars_facts_url)\n",
    "\n",
    "df = table[1]\n",
    "df.columns = [\"Fact\", \"Value\"]\n",
    "df.set_index([\"Fact\"], inplace = True)\n",
    "\n",
    "facts_html = df.to_html()\n",
    "facts_html = facts_html.replace(\"\\n\",\"\")\n",
    "\n",
    "mars_all[\"mars_html\"] = facts_html\n"
   ]
  },
  {
   "cell_type": "code",
   "execution_count": 7,
   "id": "65b9a559",
   "metadata": {},
   "outputs": [
    {
     "name": "stderr",
     "output_type": "stream",
     "text": [
      "\n",
      "\n",
      "====== WebDriver manager ======\n",
      "Current google-chrome version is 99.0.4844\n",
      "Get LATEST chromedriver version for 99.0.4844 google-chrome\n",
      "Trying to download new driver from https://chromedriver.storage.googleapis.com/99.0.4844.51/chromedriver_win32.zip\n",
      "Driver has been saved in cache [C:\\Users\\Lunaclara\\.wdm\\drivers\\chromedriver\\win32\\99.0.4844.51]\n"
     ]
    },
    {
     "name": "stdout",
     "output_type": "stream",
     "text": [
      "{'title': \"The Detective Aboard NASA's Perseverance Rover\", 'story': 'An instrument called SHERLOC will, with the help of its partner WATSON, hunt for signs of ancient life by detecting organic molecules and minerals.', 'feat_img': 'https://spaceimages-mars.com/image/featured/mars3.jpg', 'mars_html': '<table border=\"1\" class=\"dataframe\">  <thead>    <tr style=\"text-align: right;\">      <th></th>      <th>Value</th>    </tr>    <tr>      <th>Fact</th>      <th></th>    </tr>  </thead>  <tbody>    <tr>      <th>Equatorial Diameter:</th>      <td>6,792 km</td>    </tr>    <tr>      <th>Polar Diameter:</th>      <td>6,752 km</td>    </tr>    <tr>      <th>Mass:</th>      <td>6.39 × 10^23 kg (0.11 Earths)</td>    </tr>    <tr>      <th>Moons:</th>      <td>2 ( Phobos &amp; Deimos )</td>    </tr>    <tr>      <th>Orbit Distance:</th>      <td>227,943,824 km (1.38 AU)</td>    </tr>    <tr>      <th>Orbit Period:</th>      <td>687 days (1.9 years)</td>    </tr>    <tr>      <th>Surface Temperature:</th>      <td>-87 to -5 °C</td>    </tr>    <tr>      <th>First Record:</th>      <td>2nd millennium BC</td>    </tr>    <tr>      <th>Recorded By:</th>      <td>Egyptian astronomers</td>    </tr>  </tbody></table>', 'hemispheres': [{'Title': 'Cerberus Hemisphere Enhanced', 'img_url': 'https://marshemispheres.com/images/full.jpg'}, {'Title': 'Schiaparelli Hemisphere Enhanced', 'img_url': 'https://marshemispheres.com/images/schiaparelli_enhanced-full.jpg'}, {'Title': 'Syrtis Major Hemisphere Enhanced', 'img_url': 'https://marshemispheres.com/images/syrtis_major_enhanced-full.jpg'}, {'Title': 'Valles Marineris Hemisphere Enhanced', 'img_url': 'https://marshemispheres.com/images/valles_marineris_enhanced-full.jpg'}]}\n"
     ]
    }
   ],
   "source": [
    "# def scrape_hemis():\n",
    "\n",
    "browser = init_browser()\n",
    "\n",
    "url = \"https://marshemispheres.com/\"\n",
    "browser.visit(url)\n",
    "soup = bs(browser.html, \"html.parser\")\n",
    "\n",
    "links = soup.find_all(\"a\", \"itemLink product-item\", href=True)\n",
    "\n",
    "html_list = []\n",
    "\n",
    "for link in links:\n",
    "    if url + link['href'] not in html_list:\n",
    "        if link['href'] != '#':\n",
    "            html_list.append(url + link['href'])\n",
    "\n",
    "\n",
    "# print(html_list)\n",
    "hemi_images=[]\n",
    "\n",
    "for img_html in html_list:\n",
    "    browser.visit(img_html)\n",
    "    soup = bs(browser.html, \"html.parser\")\n",
    "    ls = soup.find_all('a', href = True, text = True)\n",
    "    img_title = soup.find('h2','title').get_text()\n",
    "    for l in ls:\n",
    "        if url + link['href'] not in hemi_images:\n",
    "            if l.text == 'Sample':\n",
    "                hemi_images.append({\"Title\": img_title, \"img_url\": url + l['href']})\n",
    "\n",
    "mars_all[\"hemispheres\"] = hemi_images\n",
    "\n",
    "print(mars_all)\n",
    "\n",
    "browser.quit()"
   ]
  },
  {
   "cell_type": "code",
   "execution_count": null,
   "id": "fb58903c",
   "metadata": {},
   "outputs": [],
   "source": []
  },
  {
   "cell_type": "code",
   "execution_count": null,
   "id": "5aea17d9",
   "metadata": {},
   "outputs": [],
   "source": []
  }
 ],
 "metadata": {
  "kernelspec": {
   "display_name": "Python 3 (ipykernel)",
   "language": "python",
   "name": "python3"
  },
  "language_info": {
   "codemirror_mode": {
    "name": "ipython",
    "version": 3
   },
   "file_extension": ".py",
   "mimetype": "text/x-python",
   "name": "python",
   "nbconvert_exporter": "python",
   "pygments_lexer": "ipython3",
   "version": "3.9.7"
  }
 },
 "nbformat": 4,
 "nbformat_minor": 5
}
